{
 "cells": [
  {
   "cell_type": "markdown",
   "metadata": {},
   "source": [
    "# Fork official repository\n",
    "This notebook explains the recommended way to use this repository. If you only want to visualize the notebooks trough the viewer in [GitHub](./https://github.com/sbustamante/ComputationalMethods/blob/master/index.ipynb), you can safely ignore this section.\n",
    "\n",
    "* Firt make a fork of the official repository in GitHub\n",
    "\n",
    "* Clone your own copy of the repository with\n",
    "```bash\n",
    "git clone https://github.com/sbustamante/ComputationalMethods.git\n",
    "```\n",
    "\n",
    "[1] After work some time working with the repository you would like to register your changes with\n",
    "```bash\n",
    "git commit -am 'My changes'\n",
    "```\n",
    "[2] Check for possible changes before send your commit\n",
    "```bash\n",
    "git pull --rebase origin master\n",
    "```\n",
    "[3] Send changes to repository\n",
    "```bash\n",
    "git push origin master\n",
    "```\n",
    "[4] Go to [1] for further changes"
   ]
  },
  {
   "cell_type": "markdown",
   "metadata": {},
   "source": [
    "# Sync with official repository\n",
    "1. ONLY for the first time: Follow the instructions for LINUX in [Configuring a remote for a fork](https://help.github.com/articles/configuring-a-remote-for-a-fork/)\n",
    "2. After that, follow the instructions in [Syncing a fork](https://help.github.com/articles/syncing-a-fork/)\n",
    "3. Finally sync your remote GitHub forked reposotory:\n",
    "```bash\n",
    "git push origin master\n",
    "```"
   ]
  },
  {
   "cell_type": "code",
   "execution_count": null,
   "metadata": {
    "collapsed": true
   },
   "outputs": [],
   "source": []
  }
 ],
 "metadata": {
  "kernelspec": {
   "display_name": "Python 3",
   "language": "python",
   "name": "python3"
  },
  "language_info": {
   "codemirror_mode": {
    "name": "ipython",
    "version": 3
   },
   "file_extension": ".py",
   "mimetype": "text/x-python",
   "name": "python",
   "nbconvert_exporter": "python",
   "pygments_lexer": "ipython3",
   "version": "3.4.2"
  },
  "toc": {
   "colors": {
    "hover_highlight": "#DAA520",
    "running_highlight": "#FF0000",
    "selected_highlight": "#FFD700"
   },
   "moveMenuLeft": true,
   "nav_menu": {
    "height": "48px",
    "width": "252px"
   },
   "navigate_menu": true,
   "number_sections": true,
   "sideBar": true,
   "threshold": 4,
   "toc_cell": false,
   "toc_section_display": "block",
   "toc_window_display": false
  }
 },
 "nbformat": 4,
 "nbformat_minor": 2
}
